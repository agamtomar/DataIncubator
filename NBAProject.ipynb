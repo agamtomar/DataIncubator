{
 "cells": [
  {
   "cell_type": "code",
   "execution_count": 1,
   "metadata": {},
   "outputs": [],
   "source": [
    "# Importing modules\n",
    "import numpy as np\n",
    "import pandas as pd\n",
    "from sklearn import metrics\n",
    "import matplotlib.pyplot as plt\n",
    "from sklearn.preprocessing import StandardScaler\n",
    "import seaborn as sns\n",
    "\n",
    "np.random.seed(42)\n",
    "\n",
    "# 10 Year all NBA dataset\n",
    "year = 10\n",
    "train = pd.read_csv('train_%dyr.csv' % year)\n",
    "test = pd.read_csv('test_%dyr.csv' % year)"
   ]
  },
  {
   "cell_type": "markdown",
   "metadata": {},
   "source": [
    "## Take a peak in the dataset"
   ]
  },
  {
   "cell_type": "code",
   "execution_count": 2,
   "metadata": {},
   "outputs": [
    {
     "data": {
      "text/html": [
       "<div>\n",
       "<style scoped>\n",
       "    .dataframe tbody tr th:only-of-type {\n",
       "        vertical-align: middle;\n",
       "    }\n",
       "\n",
       "    .dataframe tbody tr th {\n",
       "        vertical-align: top;\n",
       "    }\n",
       "\n",
       "    .dataframe thead th {\n",
       "        text-align: right;\n",
       "    }\n",
       "</style>\n",
       "<table border=\"1\" class=\"dataframe\">\n",
       "  <thead>\n",
       "    <tr style=\"text-align: right;\">\n",
       "      <th></th>\n",
       "      <th>Unnamed: 0</th>\n",
       "      <th>idPlayerNBA</th>\n",
       "      <th>namePlayer</th>\n",
       "      <th>yearSeason</th>\n",
       "      <th>yearSeasonFirst</th>\n",
       "      <th>yearsPlayed</th>\n",
       "      <th>maxYrsPlayed</th>\n",
       "      <th>groupPosition</th>\n",
       "      <th>AllNBA10yr</th>\n",
       "      <th>agePlayer</th>\n",
       "      <th>...</th>\n",
       "      <th>drbTotals</th>\n",
       "      <th>trbTotals</th>\n",
       "      <th>astTotals</th>\n",
       "      <th>stlTotals</th>\n",
       "      <th>blkTotals</th>\n",
       "      <th>tovTotals</th>\n",
       "      <th>pfTotals</th>\n",
       "      <th>ptsTotals</th>\n",
       "      <th>countTeamsPlayerSeasonTotals</th>\n",
       "      <th>minpergame</th>\n",
       "    </tr>\n",
       "  </thead>\n",
       "  <tbody>\n",
       "    <tr>\n",
       "      <th>0</th>\n",
       "      <td>1</td>\n",
       "      <td>386</td>\n",
       "      <td>Elliot Perry</td>\n",
       "      <td>1992</td>\n",
       "      <td>1992</td>\n",
       "      <td>0</td>\n",
       "      <td>10</td>\n",
       "      <td>G</td>\n",
       "      <td>0</td>\n",
       "      <td>22</td>\n",
       "      <td>...</td>\n",
       "      <td>25</td>\n",
       "      <td>39</td>\n",
       "      <td>78</td>\n",
       "      <td>34</td>\n",
       "      <td>3</td>\n",
       "      <td>50</td>\n",
       "      <td>36</td>\n",
       "      <td>126</td>\n",
       "      <td>1</td>\n",
       "      <td>8.740000</td>\n",
       "    </tr>\n",
       "    <tr>\n",
       "      <th>1</th>\n",
       "      <td>2</td>\n",
       "      <td>76016</td>\n",
       "      <td>Mark Aguirre</td>\n",
       "      <td>1982</td>\n",
       "      <td>1982</td>\n",
       "      <td>0</td>\n",
       "      <td>12</td>\n",
       "      <td>F</td>\n",
       "      <td>0</td>\n",
       "      <td>22</td>\n",
       "      <td>...</td>\n",
       "      <td>160</td>\n",
       "      <td>249</td>\n",
       "      <td>164</td>\n",
       "      <td>37</td>\n",
       "      <td>22</td>\n",
       "      <td>135</td>\n",
       "      <td>152</td>\n",
       "      <td>955</td>\n",
       "      <td>1</td>\n",
       "      <td>28.784314</td>\n",
       "    </tr>\n",
       "    <tr>\n",
       "      <th>2</th>\n",
       "      <td>3</td>\n",
       "      <td>78392</td>\n",
       "      <td>Wes Unseld</td>\n",
       "      <td>1969</td>\n",
       "      <td>1969</td>\n",
       "      <td>0</td>\n",
       "      <td>12</td>\n",
       "      <td>C</td>\n",
       "      <td>1</td>\n",
       "      <td>22</td>\n",
       "      <td>...</td>\n",
       "      <td>0</td>\n",
       "      <td>1491</td>\n",
       "      <td>213</td>\n",
       "      <td>0</td>\n",
       "      <td>0</td>\n",
       "      <td>0</td>\n",
       "      <td>276</td>\n",
       "      <td>1131</td>\n",
       "      <td>1</td>\n",
       "      <td>36.219512</td>\n",
       "    </tr>\n",
       "    <tr>\n",
       "      <th>3</th>\n",
       "      <td>4</td>\n",
       "      <td>688</td>\n",
       "      <td>Michael Curry</td>\n",
       "      <td>1994</td>\n",
       "      <td>1994</td>\n",
       "      <td>0</td>\n",
       "      <td>11</td>\n",
       "      <td>G</td>\n",
       "      <td>0</td>\n",
       "      <td>25</td>\n",
       "      <td>...</td>\n",
       "      <td>1</td>\n",
       "      <td>1</td>\n",
       "      <td>1</td>\n",
       "      <td>1</td>\n",
       "      <td>0</td>\n",
       "      <td>3</td>\n",
       "      <td>6</td>\n",
       "      <td>9</td>\n",
       "      <td>1</td>\n",
       "      <td>4.300000</td>\n",
       "    </tr>\n",
       "    <tr>\n",
       "      <th>4</th>\n",
       "      <td>5</td>\n",
       "      <td>2744</td>\n",
       "      <td>Al Jefferson</td>\n",
       "      <td>2005</td>\n",
       "      <td>2005</td>\n",
       "      <td>0</td>\n",
       "      <td>13</td>\n",
       "      <td>F</td>\n",
       "      <td>1</td>\n",
       "      <td>20</td>\n",
       "      <td>...</td>\n",
       "      <td>193</td>\n",
       "      <td>312</td>\n",
       "      <td>24</td>\n",
       "      <td>22</td>\n",
       "      <td>55</td>\n",
       "      <td>66</td>\n",
       "      <td>195</td>\n",
       "      <td>475</td>\n",
       "      <td>1</td>\n",
       "      <td>14.802817</td>\n",
       "    </tr>\n",
       "  </tbody>\n",
       "</table>\n",
       "<p>5 rows × 60 columns</p>\n",
       "</div>"
      ],
      "text/plain": [
       "   Unnamed: 0  idPlayerNBA     namePlayer  yearSeason  yearSeasonFirst  \\\n",
       "0           1          386   Elliot Perry        1992             1992   \n",
       "1           2        76016   Mark Aguirre        1982             1982   \n",
       "2           3        78392     Wes Unseld        1969             1969   \n",
       "3           4          688  Michael Curry        1994             1994   \n",
       "4           5         2744   Al Jefferson        2005             2005   \n",
       "\n",
       "   yearsPlayed  maxYrsPlayed groupPosition  AllNBA10yr  agePlayer     ...      \\\n",
       "0            0            10             G           0         22     ...       \n",
       "1            0            12             F           0         22     ...       \n",
       "2            0            12             C           1         22     ...       \n",
       "3            0            11             G           0         25     ...       \n",
       "4            0            13             F           1         20     ...       \n",
       "\n",
       "  drbTotals  trbTotals  astTotals  stlTotals  blkTotals  tovTotals  pfTotals  \\\n",
       "0        25         39         78         34          3         50        36   \n",
       "1       160        249        164         37         22        135       152   \n",
       "2         0       1491        213          0          0          0       276   \n",
       "3         1          1          1          1          0          3         6   \n",
       "4       193        312         24         22         55         66       195   \n",
       "\n",
       "   ptsTotals  countTeamsPlayerSeasonTotals  minpergame  \n",
       "0        126                             1    8.740000  \n",
       "1        955                             1   28.784314  \n",
       "2       1131                             1   36.219512  \n",
       "3          9                             1    4.300000  \n",
       "4        475                             1   14.802817  \n",
       "\n",
       "[5 rows x 60 columns]"
      ]
     },
     "execution_count": 2,
     "metadata": {},
     "output_type": "execute_result"
    }
   ],
   "source": [
    "train.head()"
   ]
  },
  {
   "cell_type": "code",
   "execution_count": 3,
   "metadata": {},
   "outputs": [
    {
     "data": {
      "text/plain": [
       "Index(['Unnamed: 0', 'idPlayerNBA', 'namePlayer', 'yearSeason',\n",
       "       'yearSeasonFirst', 'yearsPlayed', 'maxYrsPlayed', 'groupPosition',\n",
       "       'AllNBA10yr', 'agePlayer', 'slugTeamBREF', 'countGames', 'minutes',\n",
       "       'ratioPER', 'pctTrueShooting', 'pct3PRate', 'pctFTRate', 'pctORB',\n",
       "       'pctDRB', 'pctTRB', 'pctAST', 'pctSTL', 'pctBLK', 'pctTOV', 'pctUSG',\n",
       "       'ratioOWS', 'ratioDWS', 'ratioWS', 'ratioWSPer48', 'ratioOBPM',\n",
       "       'ratioDBPM', 'ratioBPM', 'ratioVORP', 'countTeamsPlayerSeason',\n",
       "       'countGamesStarted', 'pctFG', 'pctFG3', 'pctFG2', 'pctEFG', 'pctFT',\n",
       "       'minutesTotals', 'fgmTotals', 'fgaTotals', 'fg3mTotals', 'fg3aTotals',\n",
       "       'fg2mTotals', 'fg2aTotals', 'ftmTotals', 'ftaTotals', 'orbTotals',\n",
       "       'drbTotals', 'trbTotals', 'astTotals', 'stlTotals', 'blkTotals',\n",
       "       'tovTotals', 'pfTotals', 'ptsTotals', 'countTeamsPlayerSeasonTotals',\n",
       "       'minpergame'],\n",
       "      dtype='object')"
      ]
     },
     "execution_count": 3,
     "metadata": {},
     "output_type": "execute_result"
    }
   ],
   "source": [
    "train.columns"
   ]
  },
  {
   "cell_type": "code",
   "execution_count": 4,
   "metadata": {},
   "outputs": [
    {
     "name": "stdout",
     "output_type": "stream",
     "text": [
      "Training Data Shape: (532, 60)\n",
      "Testing Data Shape: (177, 60)\n"
     ]
    }
   ],
   "source": [
    "print(\"Training Data Shape:\", train.shape)\n",
    "print(\"Testing Data Shape:\", test.shape)"
   ]
  },
  {
   "cell_type": "code",
   "execution_count": 5,
   "metadata": {},
   "outputs": [
    {
     "data": {
      "text/plain": [
       "0    422\n",
       "1    110\n",
       "Name: AllNBA10yr, dtype: int64"
      ]
     },
     "execution_count": 5,
     "metadata": {},
     "output_type": "execute_result"
    }
   ],
   "source": [
    "train['AllNBA10yr'].value_counts()"
   ]
  },
  {
   "cell_type": "code",
   "execution_count": 55,
   "metadata": {},
   "outputs": [],
   "source": [
    "scaler = StandardScaler()\n",
    "X_train_std = scaler.fit_transform(X_train)\n",
    "X_test_std = scaler.fit_transform(X_test)"
   ]
  },
  {
   "cell_type": "code",
   "execution_count": 44,
   "metadata": {},
   "outputs": [],
   "source": [
    "cat_columns = ['groupPosition', 'slugTeamBREF']\n",
    "\n",
    "columns = ['maxYrsPlayed', 'agePlayer', 'countGames', 'minutes',\n",
    "       'ratioPER', 'pctTrueShooting', 'pct3PRate', 'pctFTRate', 'pctORB',\n",
    "       'pctDRB', 'pctTRB', 'pctAST', 'pctSTL', 'pctBLK', 'pctTOV', 'pctUSG',\n",
    "       'ratioOWS', 'ratioDWS', 'ratioWS', 'ratioWSPer48', 'ratioOBPM',\n",
    "       'ratioDBPM', 'ratioBPM', 'ratioVORP', 'countTeamsPlayerSeason',\n",
    "       'countGamesStarted', 'pctFG', 'pctFG3', 'pctFG2', 'pctEFG', 'pctFT',\n",
    "       'minutesTotals', 'fgmTotals', 'fgaTotals', 'fg3mTotals', 'fg3aTotals',\n",
    "       'fg2mTotals', 'fg2aTotals', 'ftmTotals', 'ftaTotals', 'orbTotals',\n",
    "       'drbTotals', 'trbTotals', 'astTotals', 'stlTotals', 'blkTotals',\n",
    "       'tovTotals', 'pfTotals', 'ptsTotals', 'countTeamsPlayerSeasonTotals',\n",
    "       'minpergame']\n",
    "\n",
    "\n"
   ]
  },
  {
   "cell_type": "code",
   "execution_count": 7,
   "metadata": {},
   "outputs": [],
   "source": [
    "# X_train = np.array(train.loc[:, columns])\n",
    "# X_test = np.array(test.loc[:, columns])\n",
    "\n",
    "# y_train = np.array(train.loc[:, 'AllNBA%dyr' % year])\n",
    "# y_test = np.array(test.loc[:, 'AllNBA%dyr' % year])"
   ]
  },
  {
   "cell_type": "code",
   "execution_count": 48,
   "metadata": {},
   "outputs": [],
   "source": [
    "X_train = np.array(train.loc[:, columns])\n",
    "X_test = np.array(test.loc[:, columns])\n",
    "\n",
    "y_train = np.array(train.loc[:, 'AllNBA%dyr' % year])\n",
    "y_test = np.array(test.loc[:, 'AllNBA%dyr' % year])"
   ]
  },
  {
   "cell_type": "code",
   "execution_count": 49,
   "metadata": {},
   "outputs": [
    {
     "name": "stdout",
     "output_type": "stream",
     "text": [
      "(532, 51)\n",
      "(177, 51)\n",
      "(532,)\n",
      "(177,)\n"
     ]
    }
   ],
   "source": [
    "print(X_train.shape)\n",
    "print(X_test.shape)\n",
    "print(y_train.shape)\n",
    "print(y_test.shape)"
   ]
  },
  {
   "cell_type": "code",
   "execution_count": 50,
   "metadata": {},
   "outputs": [
    {
     "name": "stdout",
     "output_type": "stream",
     "text": [
      "422\n",
      "133\n"
     ]
    }
   ],
   "source": [
    "print((y_train==0).sum())\n",
    "print((y_test==0).sum())"
   ]
  },
  {
   "cell_type": "markdown",
   "metadata": {},
   "source": [
    "## Looking the importance of age in getting the All NBA Award"
   ]
  },
  {
   "cell_type": "code",
   "execution_count": 51,
   "metadata": {},
   "outputs": [],
   "source": [
    "df1 = train['AllNBA10yr'].groupby(train['agePlayer'])"
   ]
  },
  {
   "cell_type": "code",
   "execution_count": 53,
   "metadata": {},
   "outputs": [
    {
     "data": {
      "text/plain": [
       "<matplotlib.axes._subplots.AxesSubplot at 0x25ace107b70>"
      ]
     },
     "execution_count": 53,
     "metadata": {},
     "output_type": "execute_result"
    },
    {
     "data": {
      "image/png": "[encoded data removed]",
      "text/plain": [
       "<Figure size 432x288 with 1 Axes>"
      ]
     },
     "metadata": {},
     "output_type": "display_data"
    }
   ],
   "source": [
    "df1.count().plot()"
   ]
  },
  {
   "cell_type": "markdown",
   "metadata": {},
   "source": [
    "We can see observe that players in the age slab of 21-23 are more likely to get an ALL NBA Player award within 10 years of their rookie season.  "
   ]
  },
  {
   "cell_type": "markdown",
   "metadata": {},
   "source": [
    "## Feature Selection"
   ]
  },
  {
   "cell_type": "markdown",
   "metadata": {},
   "source": [
    "### Using Logistic Regression"
   ]
  },
  {
   "cell_type": "code",
   "execution_count": null,
   "metadata": {},
   "outputs": [],
   "source": [
    "from sklearn.linear_model import LogisticRegressionCV\n",
    "\n",
    "# Logistic with L1 Norm (Lasso)\n",
    "clf_LogReg_L1Norm_CV = LogisticRegressionCV(Cs=100, cv=5, penalty='l1', solver='saga')\n",
    "clf_LogReg_L2Norm_CV = LogisticRegressionCV(Cs=100, cv=5, penalty='l2')\n",
    "# Fit the linear regression\n",
    "clf_LogReg_L1Norm_CV.fit(X_train_std, y_train)\n",
    "clf_LogReg_L2Norm_CV.fit(X_train_std, y_train)"
   ]
  },
  {
   "cell_type": "code",
   "execution_count": 29,
   "metadata": {},
   "outputs": [
    {
     "name": "stdout",
     "output_type": "stream",
     "text": [
      "Selected C Value for Logistic Regression (L1 Norm Penalty) Model: 0.6280291441834259\n",
      "Selected C Value for Logistic Regression (L2 Norm Penalty) Model: 0.1176811952434999\n"
     ]
    }
   ],
   "source": [
    "print('Selected C Value for Logistic Regression (L1 Norm Penalty) Model:', clf_LogReg_L1Norm_CV.C_[0])\n",
    "print('Selected C Value for Logistic Regression (L2 Norm Penalty) Model:', clf_LogReg_L2Norm_CV.C_[0])"
   ]
  },
  {
   "cell_type": "markdown",
   "metadata": {},
   "source": [
    "### Performing Logistic Regression for Feature Selection"
   ]
  },
  {
   "cell_type": "code",
   "execution_count": 30,
   "metadata": {},
   "outputs": [
    {
     "name": "stdout",
     "output_type": "stream",
     "text": [
      "In-Sample Accuracy 0.8227272727272728\n",
      "Out-Sample Accuracy 0.6271186440677966\n"
     ]
    }
   ],
   "source": [
    "from sklearn.linear_model import LogisticRegression\n",
    "\n",
    "clf_LogReg_L1Norm = LogisticRegression(C=clf_LogReg_L1Norm_CV.C_[0], penalty='l1')\n",
    "clf_LogReg_L1Norm.fit(X_train_std, y_train)\n",
    "\n",
    "\n",
    "y_pred = clf_LogReg_L1Norm.predict(scaler.fit_transform(X_test))\n",
    "\n",
    "print('In-Sample Accuracy', metrics.accuracy_score(y_true=y_train, y_pred=clf_LogReg_L1Norm.predict(X_train_std)))\n",
    "print('Out-Sample Accuracy', metrics.accuracy_score(y_true=y_test, y_pred=y_pred))"
   ]
  },
  {
   "cell_type": "code",
   "execution_count": null,
   "metadata": {},
   "outputs": [],
   "source": []
  },
  {
   "cell_type": "code",
   "execution_count": 31,
   "metadata": {},
   "outputs": [],
   "source": [
    "LogReg_L1Norm_coeff_df = pd.DataFrame(index=columns, data=clf_LogReg_L1Norm.coef_.reshape(-1,1), columns=['Logistic (L1 norm) Coefficient'])"
   ]
  },
  {
   "cell_type": "code",
   "execution_count": null,
   "metadata": {},
   "outputs": [],
   "source": []
  },
  {
   "cell_type": "code",
   "execution_count": 33,
   "metadata": {},
   "outputs": [
    {
     "name": "stdout",
     "output_type": "stream",
     "text": [
      "In-Sample Accuracy 0.8363636363636363\n",
      "Out-Sample Accuracy 0.6497175141242938\n"
     ]
    }
   ],
   "source": [
    "\n",
    "clf_LogReg_L2Norm = LogisticRegression(C=clf_LogReg_L2Norm_CV.C_[0], penalty='l2')\n",
    "clf_LogReg_L2Norm.fit(X_train_std, y_train)\n",
    "\n",
    "y_pred = clf_LogReg_L2Norm.predict(scaler.fit_transform(X_test))\n",
    "\n",
    "print('In-Sample Accuracy', metrics.accuracy_score(y_true=y_train, y_pred=clf_LogReg_L2Norm.predict(X_train_std)))\n",
    "print('Out-Sample Accuracy', metrics.accuracy_score(y_true=y_test, y_pred=y_pred))"
   ]
  },
  {
   "cell_type": "code",
   "execution_count": 34,
   "metadata": {},
   "outputs": [],
   "source": [
    "LogReg_L2Norm_coeff_df = pd.DataFrame(index=columns, data=clf_LogReg_L2Norm.coef_.reshape(-1,1), columns=['Logistic (L2 norm) Coefficient'])"
   ]
  },
  {
   "cell_type": "code",
   "execution_count": 35,
   "metadata": {},
   "outputs": [
    {
     "data": {
      "text/html": [
       "<div>\n",
       "<style scoped>\n",
       "    .dataframe tbody tr th:only-of-type {\n",
       "        vertical-align: middle;\n",
       "    }\n",
       "\n",
       "    .dataframe tbody tr th {\n",
       "        vertical-align: top;\n",
       "    }\n",
       "\n",
       "    .dataframe thead th {\n",
       "        text-align: right;\n",
       "    }\n",
       "</style>\n",
       "<table border=\"1\" class=\"dataframe\">\n",
       "  <thead>\n",
       "    <tr style=\"text-align: right;\">\n",
       "      <th></th>\n",
       "      <th>Logistic (L1 norm) Coefficient</th>\n",
       "      <th>Logistic (L2 norm) Coefficient</th>\n",
       "    </tr>\n",
       "  </thead>\n",
       "  <tbody>\n",
       "    <tr>\n",
       "      <th>maxYrsPlayed</th>\n",
       "      <td>0.665908</td>\n",
       "      <td>0.547922</td>\n",
       "    </tr>\n",
       "    <tr>\n",
       "      <th>agePlayer</th>\n",
       "      <td>-0.532922</td>\n",
       "      <td>-0.425254</td>\n",
       "    </tr>\n",
       "    <tr>\n",
       "      <th>countGames</th>\n",
       "      <td>-0.265369</td>\n",
       "      <td>-0.149347</td>\n",
       "    </tr>\n",
       "    <tr>\n",
       "      <th>minutes</th>\n",
       "      <td>0.000000</td>\n",
       "      <td>-0.137198</td>\n",
       "    </tr>\n",
       "    <tr>\n",
       "      <th>ratioPER</th>\n",
       "      <td>0.000000</td>\n",
       "      <td>0.079016</td>\n",
       "    </tr>\n",
       "    <tr>\n",
       "      <th>pctTrueShooting</th>\n",
       "      <td>0.000000</td>\n",
       "      <td>-0.000930</td>\n",
       "    </tr>\n",
       "    <tr>\n",
       "      <th>pct3PRate</th>\n",
       "      <td>0.000000</td>\n",
       "      <td>-0.021729</td>\n",
       "    </tr>\n",
       "    <tr>\n",
       "      <th>pctFTRate</th>\n",
       "      <td>0.129231</td>\n",
       "      <td>0.135133</td>\n",
       "    </tr>\n",
       "    <tr>\n",
       "      <th>pctORB</th>\n",
       "      <td>-0.028838</td>\n",
       "      <td>-0.070374</td>\n",
       "    </tr>\n",
       "    <tr>\n",
       "      <th>pctDRB</th>\n",
       "      <td>0.000000</td>\n",
       "      <td>-0.037750</td>\n",
       "    </tr>\n",
       "    <tr>\n",
       "      <th>pctTRB</th>\n",
       "      <td>-0.131329</td>\n",
       "      <td>-0.142069</td>\n",
       "    </tr>\n",
       "    <tr>\n",
       "      <th>pctAST</th>\n",
       "      <td>-0.020887</td>\n",
       "      <td>-0.115252</td>\n",
       "    </tr>\n",
       "    <tr>\n",
       "      <th>pctSTL</th>\n",
       "      <td>-0.080403</td>\n",
       "      <td>-0.098229</td>\n",
       "    </tr>\n",
       "    <tr>\n",
       "      <th>pctBLK</th>\n",
       "      <td>-0.355934</td>\n",
       "      <td>-0.309635</td>\n",
       "    </tr>\n",
       "    <tr>\n",
       "      <th>pctTOV</th>\n",
       "      <td>-0.425274</td>\n",
       "      <td>-0.197576</td>\n",
       "    </tr>\n",
       "    <tr>\n",
       "      <th>pctUSG</th>\n",
       "      <td>-0.322057</td>\n",
       "      <td>-0.239192</td>\n",
       "    </tr>\n",
       "    <tr>\n",
       "      <th>ratioOWS</th>\n",
       "      <td>0.000000</td>\n",
       "      <td>0.138643</td>\n",
       "    </tr>\n",
       "    <tr>\n",
       "      <th>ratioDWS</th>\n",
       "      <td>0.374227</td>\n",
       "      <td>0.354525</td>\n",
       "    </tr>\n",
       "    <tr>\n",
       "      <th>ratioWS</th>\n",
       "      <td>0.565657</td>\n",
       "      <td>0.244016</td>\n",
       "    </tr>\n",
       "    <tr>\n",
       "      <th>ratioWSPer48</th>\n",
       "      <td>0.302000</td>\n",
       "      <td>0.244164</td>\n",
       "    </tr>\n",
       "    <tr>\n",
       "      <th>ratioOBPM</th>\n",
       "      <td>0.270487</td>\n",
       "      <td>0.157907</td>\n",
       "    </tr>\n",
       "    <tr>\n",
       "      <th>ratioDBPM</th>\n",
       "      <td>-0.053091</td>\n",
       "      <td>-0.103391</td>\n",
       "    </tr>\n",
       "    <tr>\n",
       "      <th>ratioBPM</th>\n",
       "      <td>0.000000</td>\n",
       "      <td>0.091862</td>\n",
       "    </tr>\n",
       "    <tr>\n",
       "      <th>ratioVORP</th>\n",
       "      <td>0.000000</td>\n",
       "      <td>0.084055</td>\n",
       "    </tr>\n",
       "    <tr>\n",
       "      <th>countTeamsPlayerSeason</th>\n",
       "      <td>0.000000</td>\n",
       "      <td>0.000000</td>\n",
       "    </tr>\n",
       "    <tr>\n",
       "      <th>countGamesStarted</th>\n",
       "      <td>0.017070</td>\n",
       "      <td>0.134908</td>\n",
       "    </tr>\n",
       "    <tr>\n",
       "      <th>pctFG</th>\n",
       "      <td>0.000000</td>\n",
       "      <td>0.012880</td>\n",
       "    </tr>\n",
       "    <tr>\n",
       "      <th>pctFG3</th>\n",
       "      <td>-0.383744</td>\n",
       "      <td>-0.295267</td>\n",
       "    </tr>\n",
       "    <tr>\n",
       "      <th>pctFG2</th>\n",
       "      <td>0.000000</td>\n",
       "      <td>0.083969</td>\n",
       "    </tr>\n",
       "    <tr>\n",
       "      <th>pctEFG</th>\n",
       "      <td>0.000000</td>\n",
       "      <td>-0.051269</td>\n",
       "    </tr>\n",
       "    <tr>\n",
       "      <th>pctFT</th>\n",
       "      <td>0.426538</td>\n",
       "      <td>0.311948</td>\n",
       "    </tr>\n",
       "    <tr>\n",
       "      <th>minutesTotals</th>\n",
       "      <td>0.000000</td>\n",
       "      <td>-0.137198</td>\n",
       "    </tr>\n",
       "    <tr>\n",
       "      <th>fgmTotals</th>\n",
       "      <td>0.000000</td>\n",
       "      <td>0.057445</td>\n",
       "    </tr>\n",
       "    <tr>\n",
       "      <th>fgaTotals</th>\n",
       "      <td>0.000000</td>\n",
       "      <td>0.061171</td>\n",
       "    </tr>\n",
       "    <tr>\n",
       "      <th>fg3mTotals</th>\n",
       "      <td>0.000000</td>\n",
       "      <td>0.011461</td>\n",
       "    </tr>\n",
       "    <tr>\n",
       "      <th>fg3aTotals</th>\n",
       "      <td>0.229934</td>\n",
       "      <td>0.191090</td>\n",
       "    </tr>\n",
       "    <tr>\n",
       "      <th>fg2mTotals</th>\n",
       "      <td>0.000000</td>\n",
       "      <td>0.056258</td>\n",
       "    </tr>\n",
       "    <tr>\n",
       "      <th>fg2aTotals</th>\n",
       "      <td>0.000000</td>\n",
       "      <td>0.028737</td>\n",
       "    </tr>\n",
       "    <tr>\n",
       "      <th>ftmTotals</th>\n",
       "      <td>0.000000</td>\n",
       "      <td>-0.004775</td>\n",
       "    </tr>\n",
       "    <tr>\n",
       "      <th>ftaTotals</th>\n",
       "      <td>0.000000</td>\n",
       "      <td>0.080896</td>\n",
       "    </tr>\n",
       "    <tr>\n",
       "      <th>orbTotals</th>\n",
       "      <td>0.000000</td>\n",
       "      <td>0.114403</td>\n",
       "    </tr>\n",
       "    <tr>\n",
       "      <th>drbTotals</th>\n",
       "      <td>0.000000</td>\n",
       "      <td>-0.069593</td>\n",
       "    </tr>\n",
       "    <tr>\n",
       "      <th>trbTotals</th>\n",
       "      <td>-0.259712</td>\n",
       "      <td>-0.168664</td>\n",
       "    </tr>\n",
       "    <tr>\n",
       "      <th>astTotals</th>\n",
       "      <td>0.172801</td>\n",
       "      <td>0.258490</td>\n",
       "    </tr>\n",
       "    <tr>\n",
       "      <th>stlTotals</th>\n",
       "      <td>0.000000</td>\n",
       "      <td>-0.035197</td>\n",
       "    </tr>\n",
       "    <tr>\n",
       "      <th>blkTotals</th>\n",
       "      <td>-0.123205</td>\n",
       "      <td>-0.122383</td>\n",
       "    </tr>\n",
       "    <tr>\n",
       "      <th>tovTotals</th>\n",
       "      <td>0.631631</td>\n",
       "      <td>0.259953</td>\n",
       "    </tr>\n",
       "    <tr>\n",
       "      <th>pfTotals</th>\n",
       "      <td>-0.054759</td>\n",
       "      <td>-0.137875</td>\n",
       "    </tr>\n",
       "    <tr>\n",
       "      <th>ptsTotals</th>\n",
       "      <td>0.000000</td>\n",
       "      <td>0.043895</td>\n",
       "    </tr>\n",
       "    <tr>\n",
       "      <th>countTeamsPlayerSeasonTotals</th>\n",
       "      <td>0.000000</td>\n",
       "      <td>0.000000</td>\n",
       "    </tr>\n",
       "    <tr>\n",
       "      <th>minpergame</th>\n",
       "      <td>0.038273</td>\n",
       "      <td>0.182548</td>\n",
       "    </tr>\n",
       "  </tbody>\n",
       "</table>\n",
       "</div>"
      ],
      "text/plain": [
       "                              Logistic (L1 norm) Coefficient  \\\n",
       "maxYrsPlayed                                        0.665908   \n",
       "agePlayer                                          -0.532922   \n",
       "countGames                                         -0.265369   \n",
       "minutes                                             0.000000   \n",
       "ratioPER                                            0.000000   \n",
       "pctTrueShooting                                     0.000000   \n",
       "pct3PRate                                           0.000000   \n",
       "pctFTRate                                           0.129231   \n",
       "pctORB                                             -0.028838   \n",
       "pctDRB                                              0.000000   \n",
       "pctTRB                                             -0.131329   \n",
       "pctAST                                             -0.020887   \n",
       "pctSTL                                             -0.080403   \n",
       "pctBLK                                             -0.355934   \n",
       "pctTOV                                             -0.425274   \n",
       "pctUSG                                             -0.322057   \n",
       "ratioOWS                                            0.000000   \n",
       "ratioDWS                                            0.374227   \n",
       "ratioWS                                             0.565657   \n",
       "ratioWSPer48                                        0.302000   \n",
       "ratioOBPM                                           0.270487   \n",
       "ratioDBPM                                          -0.053091   \n",
       "ratioBPM                                            0.000000   \n",
       "ratioVORP                                           0.000000   \n",
       "countTeamsPlayerSeason                              0.000000   \n",
       "countGamesStarted                                   0.017070   \n",
       "pctFG                                               0.000000   \n",
       "pctFG3                                             -0.383744   \n",
       "pctFG2                                              0.000000   \n",
       "pctEFG                                              0.000000   \n",
       "pctFT                                               0.426538   \n",
       "minutesTotals                                       0.000000   \n",
       "fgmTotals                                           0.000000   \n",
       "fgaTotals                                           0.000000   \n",
       "fg3mTotals                                          0.000000   \n",
       "fg3aTotals                                          0.229934   \n",
       "fg2mTotals                                          0.000000   \n",
       "fg2aTotals                                          0.000000   \n",
       "ftmTotals                                           0.000000   \n",
       "ftaTotals                                           0.000000   \n",
       "orbTotals                                           0.000000   \n",
       "drbTotals                                           0.000000   \n",
       "trbTotals                                          -0.259712   \n",
       "astTotals                                           0.172801   \n",
       "stlTotals                                           0.000000   \n",
       "blkTotals                                          -0.123205   \n",
       "tovTotals                                           0.631631   \n",
       "pfTotals                                           -0.054759   \n",
       "ptsTotals                                           0.000000   \n",
       "countTeamsPlayerSeasonTotals                        0.000000   \n",
       "minpergame                                          0.038273   \n",
       "\n",
       "                              Logistic (L2 norm) Coefficient  \n",
       "maxYrsPlayed                                        0.547922  \n",
       "agePlayer                                          -0.425254  \n",
       "countGames                                         -0.149347  \n",
       "minutes                                            -0.137198  \n",
       "ratioPER                                            0.079016  \n",
       "pctTrueShooting                                    -0.000930  \n",
       "pct3PRate                                          -0.021729  \n",
       "pctFTRate                                           0.135133  \n",
       "pctORB                                             -0.070374  \n",
       "pctDRB                                             -0.037750  \n",
       "pctTRB                                             -0.142069  \n",
       "pctAST                                             -0.115252  \n",
       "pctSTL                                             -0.098229  \n",
       "pctBLK                                             -0.309635  \n",
       "pctTOV                                             -0.197576  \n",
       "pctUSG                                             -0.239192  \n",
       "ratioOWS                                            0.138643  \n",
       "ratioDWS                                            0.354525  \n",
       "ratioWS                                             0.244016  \n",
       "ratioWSPer48                                        0.244164  \n",
       "ratioOBPM                                           0.157907  \n",
       "ratioDBPM                                          -0.103391  \n",
       "ratioBPM                                            0.091862  \n",
       "ratioVORP                                           0.084055  \n",
       "countTeamsPlayerSeason                              0.000000  \n",
       "countGamesStarted                                   0.134908  \n",
       "pctFG                                               0.012880  \n",
       "pctFG3                                             -0.295267  \n",
       "pctFG2                                              0.083969  \n",
       "pctEFG                                             -0.051269  \n",
       "pctFT                                               0.311948  \n",
       "minutesTotals                                      -0.137198  \n",
       "fgmTotals                                           0.057445  \n",
       "fgaTotals                                           0.061171  \n",
       "fg3mTotals                                          0.011461  \n",
       "fg3aTotals                                          0.191090  \n",
       "fg2mTotals                                          0.056258  \n",
       "fg2aTotals                                          0.028737  \n",
       "ftmTotals                                          -0.004775  \n",
       "ftaTotals                                           0.080896  \n",
       "orbTotals                                           0.114403  \n",
       "drbTotals                                          -0.069593  \n",
       "trbTotals                                          -0.168664  \n",
       "astTotals                                           0.258490  \n",
       "stlTotals                                          -0.035197  \n",
       "blkTotals                                          -0.122383  \n",
       "tovTotals                                           0.259953  \n",
       "pfTotals                                           -0.137875  \n",
       "ptsTotals                                           0.043895  \n",
       "countTeamsPlayerSeasonTotals                        0.000000  \n",
       "minpergame                                          0.182548  "
      ]
     },
     "execution_count": 35,
     "metadata": {},
     "output_type": "execute_result"
    }
   ],
   "source": [
    "coeff_df = pd.concat([LogReg_L1Norm_coeff_df, LogReg_L2Norm_coeff_df], axis=1)\n",
    "coeff_df"
   ]
  },
  {
   "cell_type": "markdown",
   "metadata": {},
   "source": [
    "### Selecting Features"
   ]
  },
  {
   "cell_type": "code",
   "execution_count": 36,
   "metadata": {},
   "outputs": [
    {
     "data": {
      "image/png": "[encoded data removed]",
      "text/plain": [
       "<Figure size 1440x864 with 1 Axes>"
      ]
     },
     "metadata": {},
     "output_type": "display_data"
    },
    {
     "data": {
      "image/png": "[encoded data removed]",
      "text/plain": [
       "<Figure size 1440x864 with 1 Axes>"
      ]
     },
     "metadata": {},
     "output_type": "display_data"
    }
   ],
   "source": [
    "sns.set(style=\"whitegrid\")\n",
    "\n",
    "for col in coeff_df.columns:\n",
    "       plt.figure(figsize=(20,12))\n",
    "       sns.barplot(x=col, y=coeff_df.index, data=coeff_df)"
   ]
  },
  {
   "cell_type": "code",
   "execution_count": 42,
   "metadata": {},
   "outputs": [
    {
     "data": {
      "text/plain": [
       "maxYrsPlayed    0.665908\n",
       "tovTotals       0.631631\n",
       "ratioWS         0.565657\n",
       "pctFT           0.426538\n",
       "ratioDWS        0.374227\n",
       "Name: Logistic (L1 norm) Coefficient, dtype: float64"
      ]
     },
     "execution_count": 42,
     "metadata": {},
     "output_type": "execute_result"
    }
   ],
   "source": [
    "coeff_df['Logistic (L1 norm) Coefficient'].nlargest()"
   ]
  },
  {
   "cell_type": "code",
   "execution_count": 43,
   "metadata": {},
   "outputs": [
    {
     "data": {
      "text/plain": [
       "maxYrsPlayed    0.547922\n",
       "ratioDWS        0.354525\n",
       "pctFT           0.311948\n",
       "tovTotals       0.259953\n",
       "astTotals       0.258490\n",
       "Name: Logistic (L2 norm) Coefficient, dtype: float64"
      ]
     },
     "execution_count": 43,
     "metadata": {},
     "output_type": "execute_result"
    }
   ],
   "source": [
    "coeff_df['Logistic (L2 norm) Coefficient'].nlargest()"
   ]
  },
  {
   "cell_type": "markdown",
   "metadata": {},
   "source": [
    "We can observe the top features selected using L1 norm and L2 norm have maxYrsPlayed, ratioDWS, pctFt, tovTotals in common. "
   ]
  },
  {
   "cell_type": "code",
   "execution_count": null,
   "metadata": {},
   "outputs": [],
   "source": []
  }
 ],
 "metadata": {
  "kernelspec": {
   "display_name": "Python 3",
   "language": "python",
   "name": "python3"
  },
  "language_info": {
   "codemirror_mode": {
    "name": "ipython",
    "version": 3
   },
   "file_extension": ".py",
   "mimetype": "text/x-python",
   "name": "python",
   "nbconvert_exporter": "python",
   "pygments_lexer": "ipython3",
   "version": "3.6.7"
  }
 },
 "nbformat": 4,
 "nbformat_minor": 2
}
